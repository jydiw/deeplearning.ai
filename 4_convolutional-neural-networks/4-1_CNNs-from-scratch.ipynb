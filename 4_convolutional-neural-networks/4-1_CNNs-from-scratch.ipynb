{
 "cells": [
  {
   "cell_type": "markdown",
   "metadata": {},
   "source": [
    "# 4.1: convolutional neural networks from scratch"
   ]
  },
  {
   "cell_type": "markdown",
   "metadata": {},
   "source": [
    "A Convolutional Neural Network (CNN) is a multilayered neural network with a special architecture to detect complex features in data, with most applications in image classification, self-driving vehicles, and medical image analysis.\n",
    "\n",
    "CNNs differ from multi-level perceptron networks (MLPs) by how regularization is applied. While the regularization of MLPs typically involve adjustments to how the loss function is calculated, CNNs take hierarchical data (such as that in images) and break complex patterns into smaller and simpler patterns, drastically reducing the number of learned parameters in the model. The result is faster computation and a lower likelihood of overfitting, even with highly complex datasets."
   ]
  },
  {
   "cell_type": "markdown",
   "metadata": {},
   "source": [
    "## Image Input Can Be Very Large\n",
    "\n",
    "One of the challenges of utilizing MLP networks for computer vision is that the inputs can be quite large. Let's consider training an MLP network to detect the presence of cats in a 1-megapixel 8-bit RGB image.\n",
    "\n",
    "- 1-megapixel: the image contains 1 million pixels\n",
    "- 8-bit RGB: there are three color channels (red, green blue) that can each have a value between 0-255.\n",
    "\n",
    "If we were to feed this image as an input, we would have a total of 3 million input variables (1 million pixels per channel) for our input vector $\\mathbf{x}$:\n",
    "\n",
    "$$\\mathbf{x} \\in \\mathbb{R}^{3 \\times 1M}$$\n",
    "\n",
    "If we were then feeding this into a 1000-neuron hidden layer, then our weight matrix $W$ would b a $(1000, 3M)$-dimensional matrix totalling 3 billion elements (and a bias term). Training 3 billion weights for each epoch (for one layer!) is far too computationally expensive for most computers to handle.\n",
    "\n",
    "Let's take a step back and think about what \"cat detection\" means for us:\n",
    "\n",
    "- a cat can be anywhere in the image for there to be positive detection\n",
    "- there can be any number of cats in the image\n",
    "\n",
    "This introduces the idea of **translational invariance**:\n",
    "- the position of the object in an image should not be fixed to its position in order to be detected\n",
    "- an identical set of features should result in identical predictive output even if its position is changed\n",
    "\n",
    "Each pixel in an image represents a different input variable $x_n$\n",
    "\n",
    "The question is: how can we reduce the computational complexity of a learning algorithm while simultaneously allowing translational invariance?"
   ]
  },
  {
   "cell_type": "code",
   "execution_count": null,
   "metadata": {},
   "outputs": [],
   "source": []
  }
 ],
 "metadata": {
  "kernelspec": {
   "display_name": "Python 3",
   "language": "python",
   "name": "python3"
  },
  "language_info": {
   "codemirror_mode": {
    "name": "ipython",
    "version": 3
   },
   "file_extension": ".py",
   "mimetype": "text/x-python",
   "name": "python",
   "nbconvert_exporter": "python",
   "pygments_lexer": "ipython3",
   "version": "3.7.7"
  }
 },
 "nbformat": 4,
 "nbformat_minor": 4
}
