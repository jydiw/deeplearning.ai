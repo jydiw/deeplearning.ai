{
 "cells": [
  {
   "cell_type": "markdown",
   "metadata": {},
   "source": [
    "# Neural Style Transfer"
   ]
  },
  {
   "cell_type": "markdown",
   "metadata": {},
   "source": [
    "Say you want an image recreated in the \"style\" of another image.\n",
    "\n",
    "- **C**: the content image\n",
    "- **S**: the style image\n",
    "- **G**: a generated image of content in style"
   ]
  },
  {
   "cell_type": "markdown",
   "metadata": {},
   "source": [
    "## What are deep ConvNets really computing?"
   ]
  },
  {
   "cell_type": "markdown",
   "metadata": {},
   "source": [
    "Example:\n",
    "\n",
    "an AlexNet-like network:\n",
    "- pick a unit in layer 1. find the patches that maximize the unit's activation\n",
    "- repeat for a different unit\n",
    "- concatenate the results\n",
    "\n",
    "Each unit tends to maximally activate on one type of image feature, such as a vertical edge.\n",
    "\n",
    "In the deeper layers, each unit will 'see' a larger patch of the image as well as more complex image features."
   ]
  },
  {
   "cell_type": "markdown",
   "metadata": {},
   "source": [
    "## Cost Function\n",
    "\n",
    "$$\\mathcal{J}(G) = \\alpha \\mathcal{J}_{content}(C, G) + \\mathcal{J}_{style}(S, G)$$"
   ]
  },
  {
   "cell_type": "markdown",
   "metadata": {},
   "source": [
    "- Initiate G randomly\n",
    "- Use gradient descent to minimize $\\mathcal{J}(G)$\n",
    "    - gradient descent: $G - \\frac{\\partial}{\\partial G}\\mathcal{J}(G)$"
   ]
  },
  {
   "cell_type": "code",
   "execution_count": null,
   "metadata": {},
   "outputs": [],
   "source": []
  }
 ],
 "metadata": {
  "kernelspec": {
   "display_name": "Python 3",
   "language": "python",
   "name": "python3"
  },
  "language_info": {
   "name": ""
  }
 },
 "nbformat": 4,
 "nbformat_minor": 4
}
