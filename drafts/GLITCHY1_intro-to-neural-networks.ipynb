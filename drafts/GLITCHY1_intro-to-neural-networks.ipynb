{
 "cells": [
  {
   "cell_type": "markdown",
   "metadata": {},
   "source": [
    "# Introduction to Neural Networks\n",
    "\n",
    "Based off of the lab exercises from deeplearning.ai, using public datasets and personal flair."
   ]
  },
  {
   "cell_type": "markdown",
   "metadata": {},
   "source": [
    "## Objectives\n",
    "- Build the general architecture of a learning algorithm, including:\n",
    "    - initializing parameters\n",
    "    - calculating the cost function and its gradient\n",
    "    - using an optimization algorithm\n",
    "- Gather all three functions above into a main model function, in the right order."
   ]
  },
  {
   "cell_type": "markdown",
   "metadata": {},
   "source": [
    "## Import Packages"
   ]
  },
  {
   "cell_type": "code",
   "execution_count": 1,
   "metadata": {},
   "outputs": [],
   "source": [
    "import os\n",
    "import random\n",
    "import re\n",
    "import numpy as np\n",
    "import matplotlib.pyplot as plt\n",
    "import h5py\n",
    "import scipy\n",
    "\n",
    "from PIL import Image\n",
    "from sklearn.model_selection import train_test_split\n",
    "from scipy import ndimage\n",
    "\n",
    "%matplotlib inline"
   ]
  },
  {
   "cell_type": "markdown",
   "metadata": {},
   "source": [
    "## Dataset\n",
    "\n",
    "Data will be taken from Kaggle's [Dogs vs. Cats](https://www.kaggle.com/c/dogs-vs-cats-redux-kernels-edition/data) dataset.\n",
    "\n",
    "From Kaggle's description:\n",
    "\n",
    ">The train folder contains 25,000 images of dogs and cats. Each image in this folder has the label as part of the filename. The test folder contains 12,500 images, named according to a numeric id. For each image in the test set, you should predict a probability that the image is a dog (1 = dog, 0 = cat).\n",
    "\n",
    "Steps to reproduce:\n",
    "- preprocess train and validation set\n",
    "    - (optional) select subset of training set\n",
    "    - resize images to all be the same (64x64)\n",
    "    - flatten images\n",
    "- build logistic regression model as a single-layer neural network\n",
    "    - initialize weight matrix\n",
    "    - write forward and backprop functions, defining the log loss cost function\n",
    "    - optimize learning"
   ]
  },
  {
   "cell_type": "code",
   "execution_count": 2,
   "metadata": {},
   "outputs": [],
   "source": [
    "TRAIN_PATH = 'C:/Users/JYDIW/Documents/kaggle-datasets/dogs-vs-cats-redux-kernels-edition/train/'\r\n",
    "TEST_PATH = 'C:/Users/JYDIW/Documents/kaggle-datasets/dogs-vs-cats-redux-kernels-edition/test/'\r\n",
    "\r\n",
    "ROWS = 64\r\n",
    "COLS = 64\r\n",
    "CHANNELS = 3\r\n",
    "\r\n",
    "m_train = 2500\r\n",
    "m_val = 500\r\n",
    "m_total = m_train + m_val\r\n",
    "\r\n",
    "all_train_dogs = [TRAIN_PATH+f for f in os.listdir(TRAIN_PATH) if 'dog' in f]\r\n",
    "all_train_cats = [TRAIN_PATH+f for f in os.listdir(TRAIN_PATH) if 'cat' in f]\r\n",
    "\r\n",
    "all_train_images = random.sample(all_train_dogs, m_total//2) + random.sample(all_train_cats, m_total//2)\r\n",
    "random.shuffle(all_train_images)\r\n",
    "\r\n",
    "train_images, val_images = train_test_split(all_train_images, test_size=m_val)\r\n",
    "\r\n",
    "# all_test_images = [TEST_PATH+f for f in os.listdir(TEST_PATH)]\r\n",
    "# test_images = random.sample(all_test_images, m_test)"
   ]
  },
  {
   "cell_type": "code",
   "execution_count": 3,
   "metadata": {},
   "outputs": [],
   "source": [
    "def read_image(image_path, as_array=False):\r\n",
    "  img = Image.open(image_path)\r\n",
    "  if as_array:\r\n",
    "    return np.asarray(img.resize((COLS, ROWS)))\r\n",
    "  return img.resize((COLS, ROWS))\r\n",
    "\r\n",
    "def resize_images(images):\r\n",
    "  count = len(images)\r\n",
    "  data = np.ndarray((count, ROWS, COLS, CHANNELS), dtype=np.uint8)\r\n",
    "  for i, file in enumerate(images):\r\n",
    "    img = read_image(file, as_array=True)\r\n",
    "    data[i] = img\r\n",
    "    if (i+1)%250 == 0:\r\n",
    "      print(f'Processed {i+1} of {count}')\r\n",
    "  return data"
   ]
  },
  {
   "cell_type": "code",
   "execution_count": 4,
   "metadata": {},
   "outputs": [
    {
     "name": "stdout",
     "output_type": "stream",
     "text": [
      "(64, 64, 3)\n"
     ]
    },
    {
     "data": {
      "image/png": "[encoded data removed]",
      "text/plain": [
       "<PIL.Image.Image image mode=RGB size=64x64 at 0x1B9BD3AECC8>"
      ]
     },
     "execution_count": 4,
     "metadata": {},
     "output_type": "execute_result"
    }
   ],
   "source": [
    "print(read_image(train_images[0], as_array=True).shape)\n",
    "read_image(train_images[0])"
   ]
  },
  {
   "cell_type": "code",
   "execution_count": 5,
   "metadata": {},
   "outputs": [
    {
     "name": "stdout",
     "output_type": "stream",
     "text": [
      "Processed 250 of 2500\n",
      "Processed 500 of 2500\n",
      "Processed 750 of 2500\n",
      "Processed 1000 of 2500\n",
      "Processed 1250 of 2500\n",
      "Processed 1500 of 2500\n",
      "Processed 1750 of 2500\n",
      "Processed 2000 of 2500\n",
      "Processed 2250 of 2500\n",
      "Processed 2500 of 2500\n",
      "Processed 250 of 500\n",
      "Processed 500 of 500\n"
     ]
    }
   ],
   "source": [
    "train_images_resized = resize_images(train_images)\r\n",
    "val_images_resized = resize_images(val_images)"
   ]
  },
  {
   "cell_type": "code",
   "execution_count": 6,
   "metadata": {},
   "outputs": [
    {
     "ename": "SyntaxError",
     "evalue": "invalid syntax (<ipython-input-6-7726e0b8ac20>, line 2)",
     "output_type": "error",
     "traceback": [
      "\u001b[1;36m  File \u001b[1;32m\"<ipython-input-6-7726e0b8ac20>\"\u001b[1;36m, line \u001b[1;32m2\u001b[0m\n\u001b[1;33m    labels =np.ndarra((1, images.shape[0]), dtype=np.uint8)]\u001b[0m\n\u001b[1;37m                                                           ^\u001b[0m\n\u001b[1;31mSyntaxError\u001b[0m\u001b[1;31m:\u001b[0m invalid syntax\n"
     ]
    }
   ],
   "source": [
    "def generate_labels(images):\r\n",
    "  labels =np.ndarra((1, images.shape[0]), dtype=np.uint8]\r\n",
    "  for i in images:\r\n",
    "    if re.findall('.+\\/(\\w+)\\.\\d+\\.jpg', i)[0] == 'dog':\r\n",
    "      la[0][i] = ed(1)\r\n",
    "    else:\r\n",
    "labels[0][i] = 0end(0)\r\n",
    "  return np.array(labels)"
   ]
  },
  {
   "cell_type": "code",
   "execution_count": 10,
   "metadata": {},
   "outputs": [],
   "source": [
    "y_train = generate_labels(train_images)\r\n",
    "y_val = generate_labels(val_images)"
   ]
  },
  {
   "cell_type": "code",
   "execution_count": 11,
   "metadata": {},
   "outputs": [],
   "source": [
    "def flatten_and_normalize_images(images):\r\n",
    "  return images.reshape(images.shape[0], -1).T / 255"
   ]
  },
  {
   "cell_type": "code",
   "execution_count": 12,
   "metadata": {},
   "outputs": [],
   "source": [
    ")"
   ]
  },
  {
   "cell_type": "code",
   "execution_count": 13,
   "metadata": {},
   "outputs": [
    {
     "data": {
      "text/plain": [
       "(12288, 2500)"
      ]
     },
     "execution_count": 13,
     "metadata": {},
     "output_type": "execute_result"
    }
   ],
   "source": []
  },
  {
   "cell_type": "code",
   "execution_count": 22,
   "metadata": {},
   "outputs": [
    {
     "data": {
      "text/plain": [
       "(2500,)"
      ]
     },
     "execution_count": 22,
     "metadata": {},
     "output_type": "execute_result"
    }
   ],
   "source": []
  },
  {
   "cell_type": "code",
   "execution_count": 23,
   "metadata": {},
   "outputs": [
    {
     "data": {
      "text/plain": [
       "array([[0, 0, 0, ..., 1, 0, 0]])"
      ]
     },
     "execution_count": 23,
     "metadata": {},
     "output_type": "execute_result"
    }
   ],
   "source": [
    "y_train.reshape((1, y_train.shape[0]))"
   ]
  },
  {
   "cell_type": "markdown",
   "metadata": {},
   "source": [
    "Common steps for pre-processing a new dataset are:\r\n",
    "- Figure out the dimensions and shapes of the problem (m_train, m_test, num_px, ...)\r\n",
    "- Reshape the datasets such that each example is now a vector of size (num_px \\* num_px \\* 3, 1)\r\n",
    "- \"Standardize\" the data"
   ]
  },
  {
   "cell_type": "code",
   "execution_count": 21,
   "metadata": {},
   "outputs": [
    {
     "name": "stdout",
     "output_type": "stream",
     "text": [
      "cost after iteration 0: 0.6931471805599454\n"
     ]
    },
    {
     "name": "stderr",
     "output_type": "stream",
     "text": [
      "C:\\ProgramData\\Anaconda3\\lib\\site-packages\\ipykernel_launcher.py:2: RuntimeWarning: divide by zero encountered in log\n",
      "  \n",
      "C:\\ProgramData\\Anaconda3\\lib\\site-packages\\ipykernel_launcher.py:2: RuntimeWarning: invalid value encountered in multiply\n",
      "  \n",
      "C:\\ProgramData\\Anaconda3\\lib\\site-packages\\ipykernel_launcher.py:2: RuntimeWarning: overflow encountered in exp\n",
      "  \n"
     ]
    },
    {
     "name": "stdout",
     "output_type": "stream",
     "text": [
      "cost after iteration 100: nan\n",
      "cost after iteration 200: nan\n",
      "cost after iteration 300: nan\n",
      "cost after iteration 400: nan\n",
      "cost after iteration 500: nan\n",
      "cost after iteration 600: nan\n",
      "cost after iteration 700: nan\n",
      "cost after iteration 800: nan\n",
      "cost after iteration 900: nan\n"
     ]
    },
    {
     "ename": "KeyboardInterrupt",
     "evalue": "",
     "output_type": "error",
     "traceback": [
      "\u001b[1;31m---------------------------------------------------------------------------\u001b[0m",
      "\u001b[1;31mKeyboardInterrupt\u001b[0m                         Traceback (most recent call last)",
      "\u001b[1;32m<ipython-input-21-fa111b123767>\u001b[0m in \u001b[0;36m<module>\u001b[1;34m\u001b[0m\n\u001b[1;32m----> 1\u001b[1;33m \u001b[0mm\u001b[0m \u001b[1;33m=\u001b[0m \u001b[0mmodel\u001b[0m\u001b[1;33m(\u001b[0m\u001b[0mX_train\u001b[0m\u001b[1;33m,\u001b[0m \u001b[0my_train\u001b[0m\u001b[1;33m,\u001b[0m \u001b[0mX_val\u001b[0m\u001b[1;33m,\u001b[0m \u001b[0my_val\u001b[0m\u001b[1;33m,\u001b[0m \u001b[1;36m2000\u001b[0m\u001b[1;33m,\u001b[0m \u001b[1;36m0.5\u001b[0m\u001b[1;33m,\u001b[0m \u001b[1;32mTrue\u001b[0m\u001b[1;33m)\u001b[0m\u001b[1;33m\u001b[0m\u001b[1;33m\u001b[0m\u001b[0m\n\u001b[0m",
      "\u001b[1;32m<ipython-input-20-1f7e9f123c3b>\u001b[0m in \u001b[0;36mmodel\u001b[1;34m(X_train, y_train, X_val, y_val, num_iterations, learning_rate, verbose)\u001b[0m\n\u001b[0;32m      1\u001b[0m \u001b[1;32mdef\u001b[0m \u001b[0mmodel\u001b[0m\u001b[1;33m(\u001b[0m\u001b[0mX_train\u001b[0m\u001b[1;33m,\u001b[0m \u001b[0my_train\u001b[0m\u001b[1;33m,\u001b[0m \u001b[0mX_val\u001b[0m\u001b[1;33m,\u001b[0m \u001b[0my_val\u001b[0m\u001b[1;33m,\u001b[0m \u001b[0mnum_iterations\u001b[0m\u001b[1;33m=\u001b[0m\u001b[1;36m2000\u001b[0m\u001b[1;33m,\u001b[0m \u001b[0mlearning_rate\u001b[0m\u001b[1;33m=\u001b[0m\u001b[1;36m0.5\u001b[0m\u001b[1;33m,\u001b[0m \u001b[0mverbose\u001b[0m\u001b[1;33m=\u001b[0m\u001b[1;32mFalse\u001b[0m\u001b[1;33m)\u001b[0m\u001b[1;33m:\u001b[0m\u001b[1;33m\u001b[0m\u001b[1;33m\u001b[0m\u001b[0m\n\u001b[0;32m      2\u001b[0m   \u001b[0mw\u001b[0m\u001b[1;33m,\u001b[0m \u001b[0mb\u001b[0m \u001b[1;33m=\u001b[0m \u001b[0minitialize_with_zeros\u001b[0m\u001b[1;33m(\u001b[0m\u001b[0mX_train\u001b[0m\u001b[1;33m.\u001b[0m\u001b[0mshape\u001b[0m\u001b[1;33m[\u001b[0m\u001b[1;36m0\u001b[0m\u001b[1;33m]\u001b[0m\u001b[1;33m)\u001b[0m\u001b[1;33m\u001b[0m\u001b[1;33m\u001b[0m\u001b[0m\n\u001b[1;32m----> 3\u001b[1;33m   \u001b[0mparams\u001b[0m\u001b[1;33m,\u001b[0m \u001b[0mgrads\u001b[0m\u001b[1;33m,\u001b[0m \u001b[0mcosts\u001b[0m \u001b[1;33m=\u001b[0m \u001b[0moptimize\u001b[0m\u001b[1;33m(\u001b[0m\u001b[0mw\u001b[0m\u001b[1;33m,\u001b[0m \u001b[0mb\u001b[0m\u001b[1;33m,\u001b[0m \u001b[0mX_train\u001b[0m\u001b[1;33m,\u001b[0m \u001b[0my_train\u001b[0m\u001b[1;33m,\u001b[0m \u001b[0mnum_iterations\u001b[0m\u001b[1;33m,\u001b[0m \u001b[0mlearning_rate\u001b[0m\u001b[1;33m,\u001b[0m \u001b[0mverbose\u001b[0m\u001b[1;33m)\u001b[0m\u001b[1;33m\u001b[0m\u001b[1;33m\u001b[0m\u001b[0m\n\u001b[0m\u001b[0;32m      4\u001b[0m \u001b[1;33m\u001b[0m\u001b[0m\n\u001b[0;32m      5\u001b[0m   \u001b[0mw\u001b[0m \u001b[1;33m=\u001b[0m \u001b[0mparams\u001b[0m\u001b[1;33m[\u001b[0m\u001b[1;34m'w'\u001b[0m\u001b[1;33m]\u001b[0m\u001b[1;33m\u001b[0m\u001b[1;33m\u001b[0m\u001b[0m\n",
      "\u001b[1;32m<ipython-input-18-2526195a14f9>\u001b[0m in \u001b[0;36moptimize\u001b[1;34m(w, b, X, y, num_iterations, learning_rate, verbose)\u001b[0m\n\u001b[0;32m      3\u001b[0m \u001b[1;33m\u001b[0m\u001b[0m\n\u001b[0;32m      4\u001b[0m   \u001b[1;32mfor\u001b[0m \u001b[0mi\u001b[0m \u001b[1;32min\u001b[0m \u001b[0mrange\u001b[0m\u001b[1;33m(\u001b[0m\u001b[0mnum_iterations\u001b[0m\u001b[1;33m)\u001b[0m\u001b[1;33m:\u001b[0m\u001b[1;33m\u001b[0m\u001b[1;33m\u001b[0m\u001b[0m\n\u001b[1;32m----> 5\u001b[1;33m     \u001b[0mgrads\u001b[0m\u001b[1;33m,\u001b[0m \u001b[0mcost\u001b[0m \u001b[1;33m=\u001b[0m \u001b[0mforward_propagate\u001b[0m\u001b[1;33m(\u001b[0m\u001b[0mw\u001b[0m\u001b[1;33m,\u001b[0m \u001b[0mb\u001b[0m\u001b[1;33m,\u001b[0m \u001b[0mX\u001b[0m\u001b[1;33m,\u001b[0m \u001b[0my\u001b[0m\u001b[1;33m)\u001b[0m\u001b[1;33m\u001b[0m\u001b[1;33m\u001b[0m\u001b[0m\n\u001b[0m\u001b[0;32m      6\u001b[0m     \u001b[0mdw\u001b[0m \u001b[1;33m=\u001b[0m \u001b[0mgrads\u001b[0m\u001b[1;33m[\u001b[0m\u001b[1;34m'dw'\u001b[0m\u001b[1;33m]\u001b[0m\u001b[1;33m\u001b[0m\u001b[1;33m\u001b[0m\u001b[0m\n\u001b[0;32m      7\u001b[0m     \u001b[0mdb\u001b[0m \u001b[1;33m=\u001b[0m \u001b[0mgrads\u001b[0m\u001b[1;33m[\u001b[0m\u001b[1;34m'db'\u001b[0m\u001b[1;33m]\u001b[0m\u001b[1;33m\u001b[0m\u001b[1;33m\u001b[0m\u001b[0m\n",
      "\u001b[1;32m<ipython-input-17-4e7048a3489f>\u001b[0m in \u001b[0;36mforward_propagate\u001b[1;34m(w, b, X, y)\u001b[0m\n\u001b[0;32m      1\u001b[0m \u001b[1;32mdef\u001b[0m \u001b[0mforward_propagate\u001b[0m\u001b[1;33m(\u001b[0m\u001b[0mw\u001b[0m\u001b[1;33m,\u001b[0m \u001b[0mb\u001b[0m\u001b[1;33m,\u001b[0m \u001b[0mX\u001b[0m\u001b[1;33m,\u001b[0m \u001b[0my\u001b[0m\u001b[1;33m)\u001b[0m\u001b[1;33m:\u001b[0m\u001b[1;33m\u001b[0m\u001b[1;33m\u001b[0m\u001b[0m\n\u001b[0;32m      2\u001b[0m   \u001b[0mm\u001b[0m \u001b[1;33m=\u001b[0m \u001b[0mX\u001b[0m\u001b[1;33m.\u001b[0m\u001b[0mshape\u001b[0m\u001b[1;33m[\u001b[0m\u001b[1;33m-\u001b[0m\u001b[1;36m1\u001b[0m\u001b[1;33m]\u001b[0m\u001b[1;33m\u001b[0m\u001b[1;33m\u001b[0m\u001b[0m\n\u001b[1;32m----> 3\u001b[1;33m   \u001b[0mA\u001b[0m \u001b[1;33m=\u001b[0m \u001b[0msigmoid\u001b[0m\u001b[1;33m(\u001b[0m\u001b[0mnp\u001b[0m\u001b[1;33m.\u001b[0m\u001b[0mdot\u001b[0m\u001b[1;33m(\u001b[0m\u001b[0mw\u001b[0m\u001b[1;33m.\u001b[0m\u001b[0mT\u001b[0m\u001b[1;33m,\u001b[0m \u001b[0mX\u001b[0m\u001b[1;33m)\u001b[0m \u001b[1;33m+\u001b[0m \u001b[0mb\u001b[0m\u001b[1;33m)\u001b[0m\u001b[1;33m\u001b[0m\u001b[1;33m\u001b[0m\u001b[0m\n\u001b[0m\u001b[0;32m      4\u001b[0m   \u001b[0mcost\u001b[0m \u001b[1;33m=\u001b[0m \u001b[0mnegative_log_likelihood\u001b[0m\u001b[1;33m(\u001b[0m\u001b[0mA\u001b[0m\u001b[1;33m,\u001b[0m \u001b[0my\u001b[0m\u001b[1;33m,\u001b[0m \u001b[0mm\u001b[0m\u001b[1;33m)\u001b[0m\u001b[1;33m\u001b[0m\u001b[1;33m\u001b[0m\u001b[0m\n\u001b[0;32m      5\u001b[0m \u001b[1;33m\u001b[0m\u001b[0m\n",
      "\u001b[1;32m<__array_function__ internals>\u001b[0m in \u001b[0;36mdot\u001b[1;34m(*args, **kwargs)\u001b[0m\n",
      "\u001b[1;31mKeyboardInterrupt\u001b[0m: "
     ]
    }
   ],
   "source": []
  },
  {
   "cell_type": "code",
   "execution_count": null,
   "metadata": {},
   "outputs": [],
   "source": [
    "class CatDog():\r\n",
    "  \r\n",
    "  def __init__(self, m_train=2500, m_test=250, val_ratio=0.2):\r\n",
    "\r\n",
    "    def random_train_subset(*pools, m_train=None):\r\n",
    "      # sample from train if m_train is specified. otherwise, use all images\r\n",
    "      train_images = []\r\n",
    "      for pool in pools:\r\n",
    "        if m_train // 2 < len(pool):\r\n",
    "          train_images.append(random.sample(pool, m_train//2))\r\n",
    "        else:\r\n",
    "          train_images.append(pool)\r\n",
    "      random.shuffle(train_images)\r\n",
    "      return train_images\r\n",
    "\r\n",
    "    def generate_labels(images):\r\n",
    "      labels = []\r\n",
    "      for i in images:\r\n",
    "        if re.findall('.+\\/(\\w+)\\.\\d+\\.jpg', i)[0] == 'dog':\r\n",
    "          labels.append(1)\r\n",
    "        else:\r\n",
    "          labels.append(0)\r\n",
    "      return np.array(labels)\r\n",
    "    \r\n",
    "    # specify paths\r\n",
    "    TRAIN_PATH = 'C:/Users/JYDIW/Documents/kaggle-datasets/dogs-vs-cats-redux-kernels-edition/train/'\r\n",
    "    TEST_PATH = 'C:/Users/JYDIW/Documents/kaggle-datasets/dogs-vs-cats-redux-kernels-edition/test/'\r\n",
    "\r\n",
    "    # get all dogs and cats from train path\r\n",
    "    self.all_train_dogs = [TRAIN_PATH+f for f in os.listdir(TRAIN_PATH) if 'dog' in f]\r\n",
    "    self.all_train_cats = [TRAIN_PATH+f for f in os.listdir(TRAIN_PATH) if 'cat' in f]\r\n",
    "    self.all_train_images = random_train_subset(\r\n",
    "      self.all_train_dogs, self.all_train_cats, m_train=m_train)\r\n",
    "\r\n",
    "    # generate labels\r\n",
    "    self.all_train_images_labels = generate_labels(self.all_train_images)\r\n",
    "\r\n",
    "  def resize_images(self, images, img_rows=64, img_cols=64, verbose=True):\r\n",
    "\r\n",
    "    def resize(image_path, as_array=False):\r\n",
    "      img = Image.open(image_path).resize((self.COLS, self.ROWS))\r\n",
    "      if as_array:\r\n",
    "        return np.asarray(img)\r\n",
    "      return img\r\n",
    "\r\n",
    "    self.ROWS = img_rows\r\n",
    "    self.COLS = img_cols\r\n",
    "    self.CHANNELS = resize(all_train_images[0], as_array=True).shape[-1]\r\n",
    "    all_train_images = resize_all(all_train_images, verbose)\r\n",
    "\r\n",
    "    count = len(images)\r\n",
    "    data = np.ndarray((count, self.COLS, self.ROWS, self.CHANNELS), dtype=np.uint8)\r\n",
    "    for i, file in enumerate(images):\r\n",
    "      data[i] = resize(file, as_array=True)\r\n",
    "      if (i+1)%250 == 0 and verbose:\r\n",
    "        print(f'Processed {i+1} of {count}')\r\n",
    "    return data\r\n",
    "    \r\n",
    "    \r\n",
    "    \r\n",
    "    self.X_train, self.X_val, self.y_train, self.y_val = train_test_split(\r\n",
    "      all_train_images, all_train_images_labels, test_size=val_ratio, random_state=1, stratify=all_train_images_labels)\r\n",
    "    \r\n",
    "    self.m_train = self.X_train.shape[0]\r\n",
    "    self.m_val = self.X_val.shape[0]\r\n",
    "\r\n",
    "\r\n",
    "# class CatDogImage():\r\n",
    "\r\n",
    "#   def \r\n",
    "    \r\n",
    "    "
   ]
  }
 ],
 "metadata": {
  "kernelspec": {
   "display_name": "Python 3",
   "language": "python",
   "name": "python3"
  },
  "language_info": {
   "codemirror_mode": {
    "name": "ipython",
    "version": 3
   },
   "file_extension": ".py",
   "mimetype": "text/x-python",
   "name": "python",
   "nbconvert_exporter": "python",
   "pygments_lexer": "ipython3",
   "version": "3.7.9"
  }
 },
 "nbformat": 4,
 "nbformat_minor": 4
}
